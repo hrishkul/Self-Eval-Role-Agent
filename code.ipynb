{
 "cells": [
  {
   "cell_type": "code",
   "execution_count": 16,
   "id": "ca08b80b",
   "metadata": {},
   "outputs": [
    {
     "name": "stdout",
     "output_type": "stream",
     "text": [
      "Requirement already satisfied: gradio in /Library/Frameworks/Python.framework/Versions/3.13/lib/python3.13/site-packages (5.35.0)\n",
      "Requirement already satisfied: aiofiles<25.0,>=22.0 in /Library/Frameworks/Python.framework/Versions/3.13/lib/python3.13/site-packages (from gradio) (24.1.0)\n",
      "Requirement already satisfied: anyio<5.0,>=3.0 in /Library/Frameworks/Python.framework/Versions/3.13/lib/python3.13/site-packages (from gradio) (4.9.0)\n",
      "Requirement already satisfied: audioop-lts<1.0 in /Library/Frameworks/Python.framework/Versions/3.13/lib/python3.13/site-packages (from gradio) (0.2.1)\n",
      "Requirement already satisfied: fastapi<1.0,>=0.115.2 in /Library/Frameworks/Python.framework/Versions/3.13/lib/python3.13/site-packages (from gradio) (0.116.0)\n",
      "Requirement already satisfied: ffmpy in /Library/Frameworks/Python.framework/Versions/3.13/lib/python3.13/site-packages (from gradio) (0.6.0)\n",
      "Requirement already satisfied: gradio-client==1.10.4 in /Library/Frameworks/Python.framework/Versions/3.13/lib/python3.13/site-packages (from gradio) (1.10.4)\n",
      "Requirement already satisfied: groovy~=0.1 in /Library/Frameworks/Python.framework/Versions/3.13/lib/python3.13/site-packages (from gradio) (0.1.2)\n",
      "Requirement already satisfied: httpx>=0.24.1 in /Library/Frameworks/Python.framework/Versions/3.13/lib/python3.13/site-packages (from gradio) (0.28.1)\n",
      "Requirement already satisfied: huggingface-hub>=0.28.1 in /Library/Frameworks/Python.framework/Versions/3.13/lib/python3.13/site-packages (from gradio) (0.33.2)\n",
      "Requirement already satisfied: jinja2<4.0 in /Library/Frameworks/Python.framework/Versions/3.13/lib/python3.13/site-packages (from gradio) (3.1.6)\n",
      "Requirement already satisfied: markupsafe<4.0,>=2.0 in /Library/Frameworks/Python.framework/Versions/3.13/lib/python3.13/site-packages (from gradio) (3.0.2)\n",
      "Requirement already satisfied: numpy<3.0,>=1.0 in /Library/Frameworks/Python.framework/Versions/3.13/lib/python3.13/site-packages (from gradio) (2.2.6)\n",
      "Requirement already satisfied: orjson~=3.0 in /Library/Frameworks/Python.framework/Versions/3.13/lib/python3.13/site-packages (from gradio) (3.10.18)\n",
      "Requirement already satisfied: packaging in /Library/Frameworks/Python.framework/Versions/3.13/lib/python3.13/site-packages (from gradio) (25.0)\n",
      "Requirement already satisfied: pandas<3.0,>=1.0 in /Library/Frameworks/Python.framework/Versions/3.13/lib/python3.13/site-packages (from gradio) (2.2.3)\n",
      "Requirement already satisfied: pillow<12.0,>=8.0 in /Library/Frameworks/Python.framework/Versions/3.13/lib/python3.13/site-packages (from gradio) (11.2.1)\n",
      "Requirement already satisfied: pydantic<2.12,>=2.0 in /Library/Frameworks/Python.framework/Versions/3.13/lib/python3.13/site-packages (from gradio) (2.11.7)\n",
      "Requirement already satisfied: pydub in /Library/Frameworks/Python.framework/Versions/3.13/lib/python3.13/site-packages (from gradio) (0.25.1)\n",
      "Requirement already satisfied: python-multipart>=0.0.18 in /Library/Frameworks/Python.framework/Versions/3.13/lib/python3.13/site-packages (from gradio) (0.0.20)\n",
      "Requirement already satisfied: pyyaml<7.0,>=5.0 in /Library/Frameworks/Python.framework/Versions/3.13/lib/python3.13/site-packages (from gradio) (6.0.2)\n",
      "Requirement already satisfied: ruff>=0.9.3 in /Library/Frameworks/Python.framework/Versions/3.13/lib/python3.13/site-packages (from gradio) (0.12.2)\n",
      "Requirement already satisfied: safehttpx<0.2.0,>=0.1.6 in /Library/Frameworks/Python.framework/Versions/3.13/lib/python3.13/site-packages (from gradio) (0.1.6)\n",
      "Requirement already satisfied: semantic-version~=2.0 in /Library/Frameworks/Python.framework/Versions/3.13/lib/python3.13/site-packages (from gradio) (2.10.0)\n",
      "Requirement already satisfied: starlette<1.0,>=0.40.0 in /Library/Frameworks/Python.framework/Versions/3.13/lib/python3.13/site-packages (from gradio) (0.46.2)\n",
      "Requirement already satisfied: tomlkit<0.14.0,>=0.12.0 in /Library/Frameworks/Python.framework/Versions/3.13/lib/python3.13/site-packages (from gradio) (0.13.3)\n",
      "Requirement already satisfied: typer<1.0,>=0.12 in /Library/Frameworks/Python.framework/Versions/3.13/lib/python3.13/site-packages (from gradio) (0.16.0)\n",
      "Requirement already satisfied: typing-extensions~=4.0 in /Library/Frameworks/Python.framework/Versions/3.13/lib/python3.13/site-packages (from gradio) (4.13.2)\n",
      "Requirement already satisfied: uvicorn>=0.14.0 in /Library/Frameworks/Python.framework/Versions/3.13/lib/python3.13/site-packages (from gradio) (0.35.0)\n",
      "Requirement already satisfied: fsspec in /Library/Frameworks/Python.framework/Versions/3.13/lib/python3.13/site-packages (from gradio-client==1.10.4->gradio) (2025.5.1)\n",
      "Requirement already satisfied: websockets<16.0,>=10.0 in /Library/Frameworks/Python.framework/Versions/3.13/lib/python3.13/site-packages (from gradio-client==1.10.4->gradio) (15.0.1)\n",
      "Requirement already satisfied: idna>=2.8 in /Library/Frameworks/Python.framework/Versions/3.13/lib/python3.13/site-packages (from anyio<5.0,>=3.0->gradio) (3.10)\n",
      "Requirement already satisfied: sniffio>=1.1 in /Library/Frameworks/Python.framework/Versions/3.13/lib/python3.13/site-packages (from anyio<5.0,>=3.0->gradio) (1.3.1)\n",
      "Requirement already satisfied: python-dateutil>=2.8.2 in /Library/Frameworks/Python.framework/Versions/3.13/lib/python3.13/site-packages (from pandas<3.0,>=1.0->gradio) (2.9.0.post0)\n",
      "Requirement already satisfied: pytz>=2020.1 in /Library/Frameworks/Python.framework/Versions/3.13/lib/python3.13/site-packages (from pandas<3.0,>=1.0->gradio) (2025.2)\n",
      "Requirement already satisfied: tzdata>=2022.7 in /Library/Frameworks/Python.framework/Versions/3.13/lib/python3.13/site-packages (from pandas<3.0,>=1.0->gradio) (2025.2)\n",
      "Requirement already satisfied: annotated-types>=0.6.0 in /Library/Frameworks/Python.framework/Versions/3.13/lib/python3.13/site-packages (from pydantic<2.12,>=2.0->gradio) (0.7.0)\n",
      "Requirement already satisfied: pydantic-core==2.33.2 in /Library/Frameworks/Python.framework/Versions/3.13/lib/python3.13/site-packages (from pydantic<2.12,>=2.0->gradio) (2.33.2)\n",
      "Requirement already satisfied: typing-inspection>=0.4.0 in /Library/Frameworks/Python.framework/Versions/3.13/lib/python3.13/site-packages (from pydantic<2.12,>=2.0->gradio) (0.4.1)\n",
      "Requirement already satisfied: click>=8.0.0 in /Library/Frameworks/Python.framework/Versions/3.13/lib/python3.13/site-packages (from typer<1.0,>=0.12->gradio) (8.2.1)\n",
      "Requirement already satisfied: shellingham>=1.3.0 in /Library/Frameworks/Python.framework/Versions/3.13/lib/python3.13/site-packages (from typer<1.0,>=0.12->gradio) (1.5.4)\n",
      "Requirement already satisfied: rich>=10.11.0 in /Library/Frameworks/Python.framework/Versions/3.13/lib/python3.13/site-packages (from typer<1.0,>=0.12->gradio) (14.0.0)\n",
      "Requirement already satisfied: certifi in /Library/Frameworks/Python.framework/Versions/3.13/lib/python3.13/site-packages (from httpx>=0.24.1->gradio) (2025.4.26)\n",
      "Requirement already satisfied: httpcore==1.* in /Library/Frameworks/Python.framework/Versions/3.13/lib/python3.13/site-packages (from httpx>=0.24.1->gradio) (1.0.9)\n",
      "Requirement already satisfied: h11>=0.16 in /Library/Frameworks/Python.framework/Versions/3.13/lib/python3.13/site-packages (from httpcore==1.*->httpx>=0.24.1->gradio) (0.16.0)\n",
      "Requirement already satisfied: filelock in /Library/Frameworks/Python.framework/Versions/3.13/lib/python3.13/site-packages (from huggingface-hub>=0.28.1->gradio) (3.18.0)\n",
      "Requirement already satisfied: requests in /Library/Frameworks/Python.framework/Versions/3.13/lib/python3.13/site-packages (from huggingface-hub>=0.28.1->gradio) (2.32.3)\n",
      "Requirement already satisfied: tqdm>=4.42.1 in /Library/Frameworks/Python.framework/Versions/3.13/lib/python3.13/site-packages (from huggingface-hub>=0.28.1->gradio) (4.67.1)\n",
      "Requirement already satisfied: hf-xet<2.0.0,>=1.1.2 in /Library/Frameworks/Python.framework/Versions/3.13/lib/python3.13/site-packages (from huggingface-hub>=0.28.1->gradio) (1.1.5)\n",
      "Requirement already satisfied: six>=1.5 in /Library/Frameworks/Python.framework/Versions/3.13/lib/python3.13/site-packages (from python-dateutil>=2.8.2->pandas<3.0,>=1.0->gradio) (1.17.0)\n",
      "Requirement already satisfied: markdown-it-py>=2.2.0 in /Library/Frameworks/Python.framework/Versions/3.13/lib/python3.13/site-packages (from rich>=10.11.0->typer<1.0,>=0.12->gradio) (3.0.0)\n",
      "Requirement already satisfied: pygments<3.0.0,>=2.13.0 in /Library/Frameworks/Python.framework/Versions/3.13/lib/python3.13/site-packages (from rich>=10.11.0->typer<1.0,>=0.12->gradio) (2.19.1)\n",
      "Requirement already satisfied: mdurl~=0.1 in /Library/Frameworks/Python.framework/Versions/3.13/lib/python3.13/site-packages (from markdown-it-py>=2.2.0->rich>=10.11.0->typer<1.0,>=0.12->gradio) (0.1.2)\n",
      "Requirement already satisfied: charset-normalizer<4,>=2 in /Library/Frameworks/Python.framework/Versions/3.13/lib/python3.13/site-packages (from requests->huggingface-hub>=0.28.1->gradio) (3.4.2)\n",
      "Requirement already satisfied: urllib3<3,>=1.21.1 in /Library/Frameworks/Python.framework/Versions/3.13/lib/python3.13/site-packages (from requests->huggingface-hub>=0.28.1->gradio) (2.4.0)\n"
     ]
    }
   ],
   "source": [
    "!pip install gradio\n"
   ]
  },
  {
   "cell_type": "code",
   "execution_count": 17,
   "id": "58602b51",
   "metadata": {},
   "outputs": [],
   "source": [
    "from dotenv import load_dotenv\n",
    "from openai import OpenAI\n",
    "from pypdf import PdfReader\n",
    "import gradio as gr\n",
    "from pydantic import BaseModel\n",
    "import json"
   ]
  },
  {
   "cell_type": "code",
   "execution_count": 18,
   "id": "fda4eee8",
   "metadata": {},
   "outputs": [],
   "source": [
    "load_dotenv(override=True)\n",
    "openai = OpenAI()"
   ]
  },
  {
   "cell_type": "code",
   "execution_count": 19,
   "id": "41b736b8",
   "metadata": {},
   "outputs": [],
   "source": [
    "reader=PdfReader(\"resume.pdf\")\n",
    "resume=\"\"\n",
    "for page in reader.pages:\n",
    "    text=page.extract_text()\n",
    "    if text:\n",
    "        resume+=text"
   ]
  },
  {
   "cell_type": "code",
   "execution_count": 20,
   "id": "a0e0d1ed",
   "metadata": {},
   "outputs": [
    {
     "name": "stdout",
     "output_type": "stream",
     "text": [
      "+919021001351\n",
      "hrishkul@gmail.com HrishikeshKulkarni\n",
      "linkedin.com/in/hrishkul\n",
      "github.com/hrishkul\n",
      "EDUCATION\n",
      "BachelorofScience,ComputerScience, VishwakarmaUniversity,CGPA:8.4 Aug2023—May2026\n",
      "PROJECTS\n",
      "MNISTNeuralNetwork, Jan2025—Feb2025\n",
      "• DevelopedaneuralnetworkfromscratchinPythontoclassifyhandwrittendigitsusingtheMNISTdataset,achievingupto84.5%\n",
      "testaccuracy.\n",
      "• Implementedallcomponentsmanually,includingforwardpropagation,ReLUandsoftmaxactivations,andbackpropagationwith\n",
      "stochasticgradientdescent.\n",
      "• Designedacustomizablearchitecturewitha784-neuroninputlayer,hiddenlayers,anda10-neuronoutputlayertorepresentdigits\n",
      "0–9.\n",
      "• Ensuredtrainingon60,000imagesandevaluatedperformanceon10,000testimages,withaccuracyoutputsandpredictions\n",
      "visualizedpost-training.\n",
      "• AvoidedexternalframeworkslikeTensorFloworPyTorchtodeeplyunderstandthecoremechanicsofneuralnetworks.\n",
      "• Coderepository: github.com/hrishkul/MNIST-neural-network\n",
      "ProductRecommendationSystemusingInstacartDataset, June2025—Present\n",
      "• ActivelyworkingondesigningandevaluatingaproductrecommendationsystemusingInstacart’sopendatasettopredictnextlikely\n",
      "purchases.\n",
      "• Conductingdatacleaningandexploratorydataanalysisonover3milliongroceryordersfrom200,000+userstoidentifyshopping\n",
      "patterns.\n",
      "• ImplementingcollaborativefilteringandApriori-basedassociationruleminingtoprovidepersonalizedproductrecommendations.\n",
      "• EvaluatingmodelperformanceusingPrecision@KandRecall@Ktooptimizerecommendationquality.\n",
      "• Tools: Python,Pandas,NumPy,Scikit-learn,MLxtend.\n",
      "EXPERIENCE\n",
      "ProjectIntern Apr2025—Jun2025 TataConsultancyServices Remote,India\n",
      "• BuiltaretailforecastingdashboardusingARIMA,Prophet,ExponentialSmoothing,andRandomForest,improvingprediction\n",
      "accuracyby 22%\n",
      "• DesignedaninteractiveTkinterUIwithdynamicplotsandfilters,enablingnon-technicalteamstoaccessreal-timeinsightsacross\n",
      "15+productcategories.\n",
      "• AutomatedbatchpredictionsandCSVreportingworkflows,cuttingmanualeffortby 80%andspeedingupoperational\n",
      "decision-making.\n",
      "SKILLS\n",
      "Programming Python\n",
      "Libraries Pandas,NumPy,Scikit-learn,Statsmodels,Prophet,MLxtend\n",
      "MachineLearning NeuralNetworks(fromscratch),RandomForest,ARIMA,Apriori,LogisticRegression\n",
      "DataAnalysis ExploratoryDataAnalysis(EDA),MarketBasketAnalysis,TimeSeriesForecasting\n",
      "Visualization Matplotlib,Seaborn,Tkinter(GUI)\n",
      "Tools Git,GitHub,JupyterNotebook,VSCode\n",
      "CERTIFICATIONS\n",
      "TCSiON–DataModellingandVisualization Jan2025\n",
      "TCSiON–DataMiningandWarehousing May2025\n"
     ]
    }
   ],
   "source": [
    "print(resume)"
   ]
  },
  {
   "cell_type": "code",
   "execution_count": 21,
   "id": "ea4c30bd",
   "metadata": {},
   "outputs": [],
   "source": [
    "with open(\"summary.txt\", \"r\") as f:\n",
    "    summary=f.read()\n",
    "    "
   ]
  },
  {
   "cell_type": "code",
   "execution_count": 22,
   "id": "cd722701",
   "metadata": {},
   "outputs": [],
   "source": [
    "name=\"Hrishikesh Kulkarni\""
   ]
  },
  {
   "cell_type": "code",
   "execution_count": 23,
   "id": "13085729",
   "metadata": {},
   "outputs": [],
   "source": [
    "system_prompt = f\"You are acting as {name}. You are answering questions on {name}'s website, \\\n",
    "particularly questions related to {name}'s career, background, skills and experience. \\\n",
    "Your responsibility is to represent {name} for interactions on the website as faithfully as possible. \\\n",
    "You are given a summary of {name}'s background and LinkedIn profile which you can use to answer questions. \\\n",
    "Be professional and engaging, as if talking to a potential client or future employer who came across the website. \\\n",
    "If you don't know the answer, say so.\"\n",
    "\n",
    "system_prompt += f\"\\n\\n## Summary:\\n{summary} and \\n\\n## Resume:\\n{resume}\\n\\n\"\n",
    "system_prompt += f\"With this context, please chat with the user, always staying in character as {name}.\""
   ]
  },
  {
   "cell_type": "code",
   "execution_count": 24,
   "id": "5607ed77",
   "metadata": {},
   "outputs": [],
   "source": [
    "class Evaluation(BaseModel):\n",
    "    is_acceptable: bool\n",
    "    feedback:str"
   ]
  },
  {
   "cell_type": "code",
   "execution_count": 25,
   "id": "45ec6f93",
   "metadata": {},
   "outputs": [],
   "source": [
    "evaluator_system_prompt = \"You are an evaluator that decides whether a response to a question is acceptable. \\\n",
    "You are provided with a conversation between a User and an Agent. Your task is to decide whether the Agent's latest response is acceptable quality. \\\n",
    "The Agent is playing the role of {name} and is representing {name} on their website. \\\n",
    "The Agent has been instructed to be professional and engaging, as if talking to a potential client or future employer who came across the website. \\\n",
    "The Agent has been provided with context on {name} in the form of their summary and LinkedIn details. Here's the information:\"\n",
    "\n",
    "evaluator_system_prompt += f\"\\n\\n## Summary:\\n{summary}\\n\\n## Resume:\\n{resume}\\n\\n\"\n",
    "evaluator_system_prompt += f'''With this context, please evaluate the latest response, replying with whether the response is acceptable and your feedback.Please respond in the following JSON format:\n",
    "{{\"is_acceptable\": true, \"feedback\": \"...\"}}\n",
    "Only output valid JSON.'''\n"
   ]
  },
  {
   "cell_type": "code",
   "execution_count": 26,
   "id": "adc4f790",
   "metadata": {},
   "outputs": [],
   "source": [
    "def convert_history(history):\n",
    "    messages = []\n",
    "    for user_msg, assistant_msg in history:\n",
    "        messages.append({\"role\": \"user\", \"content\": user_msg})\n",
    "        messages.append({\"role\": \"assistant\", \"content\": assistant_msg})\n",
    "    return messages\n",
    "\n",
    "def format_history(history):\n",
    "    return \"\\n\".join([f\"{msg['role'].capitalize()}: {msg['content']}\" for msg in history])\n",
    "\n",
    "def evaluator_user_prompt(reply, message, formatted_history):\n",
    "    user_prompt = f\"Here's the conversation between the User and the Agent:\\n{formatted_history}\\n\\n\"\n",
    "    user_prompt += f\"Here's the latest question asked by the User: {message}\\n\\n\"\n",
    "    user_prompt += f\"Here's the latest response from the Agent: {reply}\\n\\n\"\n",
    "    return user_prompt\n"
   ]
  },
  {
   "cell_type": "code",
   "execution_count": 27,
   "id": "b037f058",
   "metadata": {},
   "outputs": [],
   "source": [
    "def evaluate(reply, message, history) -> Evaluation:\n",
    "    history_string = format_history(history)  # just formatting\n",
    "    user_prompt = evaluator_user_prompt(reply, message, history_string)\n",
    "    messages = [{\"role\": \"system\", \"content\": evaluator_system_prompt},{\"role\": \"user\", \"content\": user_prompt}]\n",
    "    response = openai.chat.completions.create(model=\"gpt-4.1-nano\", messages=messages)\n",
    "    response_content = response.choices[0].message.content\n",
    "    try:\n",
    "        data = json.loads(response_content)\n",
    "        return Evaluation(**data)\n",
    "    except Exception as e:\n",
    "        raise ValueError(f\"Failed to parse evaluation response: {response_content}\") from e\n"
   ]
  },
  {
   "cell_type": "code",
   "execution_count": 28,
   "id": "a3668cf8",
   "metadata": {},
   "outputs": [],
   "source": [
    "def rerun(reply,message,history,feedback):\n",
    "    updated_system_prompt = system_prompt + \"\\n\\n## Previous answer rejected\\nYou just tried to reply, but the quality control rejected your reply\\n\"\n",
    "    updated_system_prompt += f\"## Your attempted answer:\\n{reply}\\n\\n\"\n",
    "    updated_system_prompt += f\"## Reason for rejection:\\n{feedback}\\n\\n\"\n",
    "    messages = [{\"role\": \"system\", \"content\": updated_system_prompt}]+  history +[{\"role\": \"user\", \"content\": message}]\n",
    "    response = openai.chat.completions.create(model=\"gpt-4o-mini\", messages=messages)\n",
    "    return response.choices[0].message.content"
   ]
  },
  {
   "cell_type": "code",
   "execution_count": 29,
   "id": "0acc4a93",
   "metadata": {},
   "outputs": [],
   "source": [
    "def chat(message, history):\n",
    "    history=convert_history(history)\n",
    "    system=system_prompt\n",
    "    messages=[{\"role\":\"system\", \"content\": system}]+ history+ [{\"role\":\"user\", \"content\":message}]\n",
    "    response=openai.chat.completions.create(model=\"gpt-4o-mini\", messages=messages)\n",
    "    reply=response.choices[0].message.content\n",
    "\n",
    "    evaluation=evaluate(reply, message, history)\n",
    "    if evaluation.is_acceptable:\n",
    "        print(\"Evaluation: Acceptable\")\n",
    "    else:\n",
    "        print(\"Evaluation: Rejected\")\n",
    "        print(evaluation.feedback)\n",
    "        reply=rerun(reply,message,history,evaluation.feedback)\n",
    "    return reply"
   ]
  },
  {
   "cell_type": "code",
   "execution_count": null,
   "id": "5829fc06",
   "metadata": {},
   "outputs": [],
   "source": []
  },
  {
   "cell_type": "code",
   "execution_count": null,
   "id": "53f6d583",
   "metadata": {},
   "outputs": [
    {
     "name": "stderr",
     "output_type": "stream",
     "text": [
      "/Users/hrishi/Desktop/codes/projects/agents/.venv/lib/python3.12/site-packages/gradio/chat_interface.py:339: UserWarning: The 'tuples' format for chatbot messages is deprecated and will be removed in a future version of Gradio. Please set type='messages' instead, which uses openai-style 'role' and 'content' keys.\n",
      "  self.chatbot = Chatbot(\n"
     ]
    },
    {
     "name": "stdout",
     "output_type": "stream",
     "text": [
      "* Running on local URL:  http://127.0.0.1:7861\n",
      "* To create a public link, set `share=True` in `launch()`.\n"
     ]
    },
    {
     "data": {
      "text/html": [
       "<div><iframe src=\"http://127.0.0.1:7861/\" width=\"100%\" height=\"500\" allow=\"autoplay; camera; microphone; clipboard-read; clipboard-write;\" frameborder=\"0\" allowfullscreen></iframe></div>"
      ],
      "text/plain": [
       "<IPython.core.display.HTML object>"
      ]
     },
     "metadata": {},
     "output_type": "display_data"
    },
    {
     "data": {
      "text/plain": []
     },
     "execution_count": 30,
     "metadata": {},
     "output_type": "execute_result"
    },
    {
     "name": "stdout",
     "output_type": "stream",
     "text": [
      "Evaluation: Acceptable\n",
      "Evaluation: Acceptable\n",
      "Evaluation: Acceptable\n",
      "Evaluation: Acceptable\n"
     ]
    }
   ],
   "source": [
    "gr.ChatInterface(chat).launch()"
   ]
  },
  {
   "cell_type": "code",
   "execution_count": null,
   "id": "21ce1f7e",
   "metadata": {},
   "outputs": [],
   "source": []
  }
 ],
 "metadata": {
  "kernelspec": {
   "display_name": ".venv",
   "language": "python",
   "name": "python3"
  },
  "language_info": {
   "codemirror_mode": {
    "name": "ipython",
    "version": 3
   },
   "file_extension": ".py",
   "mimetype": "text/x-python",
   "name": "python",
   "nbconvert_exporter": "python",
   "pygments_lexer": "ipython3",
   "version": "3.12.11"
  }
 },
 "nbformat": 4,
 "nbformat_minor": 5
}
